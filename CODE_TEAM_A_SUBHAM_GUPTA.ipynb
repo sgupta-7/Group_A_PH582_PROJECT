{
  "nbformat": 4,
  "nbformat_minor": 0,
  "metadata": {
    "kernelspec": {
      "display_name": "NeuralNetwork",
      "language": "python",
      "name": "neuralnetwork"
    },
    "language_info": {
      "codemirror_mode": {
        "name": "ipython",
        "version": 3
      },
      "file_extension": ".py",
      "mimetype": "text/x-python",
      "name": "python",
      "nbconvert_exporter": "python",
      "pygments_lexer": "ipython3",
      "version": "3.8.5"
    },
    "colab": {
      "name": "CODE_TEAM_A_SUBHAM_GUPTA.ipynb",
      "provenance": [],
      "include_colab_link": true
    }
  },
  "cells": [
    {
      "cell_type": "markdown",
      "metadata": {
        "id": "view-in-github",
        "colab_type": "text"
      },
      "source": [
        "<a href=\"https://colab.research.google.com/github/sgupta-7/Group_A_PH582_PROJECT/blob/main/CODE_TEAM_A_SUBHAM_GUPTA.ipynb\" target=\"_parent\"><img src=\"https://colab.research.google.com/assets/colab-badge.svg\" alt=\"Open In Colab\"/></a>"
      ]
    },
    {
      "cell_type": "code",
      "metadata": {
        "id": "ERiSNLBwuGrx"
      },
      "source": [
        "# CODE FOR PROJECT GROUP A USING THREE APPROACHES"
      ],
      "execution_count": null,
      "outputs": []
    },
    {
      "cell_type": "code",
      "metadata": {
        "id": "c1bwEZ_ruGrz"
      },
      "source": [
        "import numpy as np\n",
        "from scipy.integrate import odeint\n",
        "import matplotlib.pyplot as plt\n",
        "import random\n",
        "import numpy as np\n",
        "from keras.models import Sequential\n",
        "from keras.layers import Dense, SimpleRNN\n",
        "from keras.layers import LSTM\n",
        "from sklearn.model_selection import train_test_split\n",
        "import matplotlib.pyplot as plt\n",
        "import tensorflow as tf\n",
        "from tensorflow import keras\n",
        "from tensorflow.keras import layers\n",
        "from sklearn.preprocessing import MinMaxScaler\n",
        "from keras.layers import Dropout\n",
        "from sklearn.model_selection import RandomizedSearchCV\n",
        "from sklearn.model_selection import GridSearchCV\n",
        "import math\n",
        "from sklearn.metrics import mean_squared_error"
      ],
      "execution_count": null,
      "outputs": []
    },
    {
      "cell_type": "markdown",
      "metadata": {
        "id": "vFaLXIwkuGr0"
      },
      "source": [
        "# 1ST APPROACH( CONVENTIONAL SINGLE TS APPROACH)"
      ]
    },
    {
      "cell_type": "code",
      "metadata": {
        "id": "imu6dSGeuGr0"
      },
      "source": [
        "#vector = v = [x y z]\n",
        "def model(v,t):\n",
        "    x = v[0]\n",
        "    y = v[1]\n",
        "    z = v[2]\n",
        "    alpha = 15.6\n",
        "    beta = 28\n",
        "    m0   = -1.143\n",
        "    m1   = -0.714\n",
        "    h = m1*x + 0.5*(m0-m1)*(abs(x+1)-abs(x-1))\n",
        "    dxdt = alpha*(y - x - h)\n",
        "    dydt = x - y + z\n",
        "    dzdt = -beta*y \n",
        "    return np.array([dxdt, dydt, dzdt])"
      ],
      "execution_count": null,
      "outputs": []
    },
    {
      "cell_type": "code",
      "metadata": {
        "id": "0iZp4_yxuGr1"
      },
      "source": [
        "step = 1\n",
        "def convertToMatrix(data, step):\n",
        "    X, Y =[], []\n",
        "    for i in range(len(data)-step):\n",
        "        d=i+step  \n",
        "        X.append(data[i:d,])\n",
        "        Y.append(data[d,])\n",
        "    return np.array(X), np.array(Y)"
      ],
      "execution_count": null,
      "outputs": []
    },
    {
      "cell_type": "code",
      "metadata": {
        "id": "1VnVBhAguGr1"
      },
      "source": [
        "# DATA GENERATION\n",
        "# initial condition\n",
        "# v0 = initial condition, Change timestep range in 2nd line\n",
        "v0 = np.array([0.7,0.1,0.2])\n",
        "t = np.linspace(0,2000,num=2000)\n",
        "v = odeint(model,v0,t)"
      ],
      "execution_count": null,
      "outputs": []
    },
    {
      "cell_type": "code",
      "metadata": {
        "id": "P2ecinuxuGr1"
      },
      "source": [
        "f = plt.figure()\n",
        "f.set_figwidth(70)\n",
        "f.set_figheight(20)\n",
        "plt.plot(t,v[:,0], linewidth=2)\n",
        "plt.plot(t,v[:,1], linewidth=5)\n",
        "plt.plot(t,v[:,2], linewidth=2)\n",
        "plt.xlabel('time')\n",
        "plt.ylabel('y(t)')\n",
        "plt.show()"
      ],
      "execution_count": null,
      "outputs": []
    },
    {
      "cell_type": "code",
      "metadata": {
        "id": "sKUo92tmuGr2"
      },
      "source": [
        "a = v[:,0]\n",
        "b = v[:,1]\n",
        "c = v[:,2]\n",
        "a = a.reshape(len(a), 1)\n",
        "b = b.reshape(len(b), 1)\n",
        "c = c.reshape(len(c), 1)"
      ],
      "execution_count": null,
      "outputs": []
    },
    {
      "cell_type": "code",
      "metadata": {
        "id": "PRFdDItjuGr2"
      },
      "source": [
        "N = 2000\n",
        "Tp = 1600\n",
        "train,test = v[0:Tp,:], v[Tp:N,:]"
      ],
      "execution_count": null,
      "outputs": []
    },
    {
      "cell_type": "code",
      "metadata": {
        "id": "6wEkkpa-uGr2"
      },
      "source": [
        "trainX,trainY =convertToMatrix(train,step)\n",
        "testX,testY =convertToMatrix(test,step)\n",
        "trainX = trainX.reshape(trainX.shape[0], step, trainX.shape[2])\n",
        "testX = testX.reshape(testX.shape[0], step, testX.shape[2])"
      ],
      "execution_count": null,
      "outputs": []
    },
    {
      "cell_type": "markdown",
      "metadata": {
        "id": "2o6CGniTuGr3"
      },
      "source": [
        "## 1. LSTM"
      ]
    },
    {
      "cell_type": "code",
      "metadata": {
        "id": "rwP9VrI-uGr3"
      },
      "source": [
        "modelLSTM = Sequential()\n",
        "modelLSTM.add(LSTM( 50 , input_shape=( None , 3 )))\n",
        "modelLSTM.add(Dense( 3 ))\n",
        "modelLSTM.compile(loss= 'mean_squared_error' , optimizer= 'adam' )\n",
        "modelLSTM.summary()"
      ],
      "execution_count": null,
      "outputs": []
    },
    {
      "cell_type": "code",
      "metadata": {
        "id": "IzCI9YLbuGr3"
      },
      "source": [
        "modelLSTM.fit(trainX,trainY,verbose= 2 ,epochs= 200, batch_size=32)"
      ],
      "execution_count": null,
      "outputs": []
    },
    {
      "cell_type": "code",
      "metadata": {
        "id": "-tk-9RCGuGr3"
      },
      "source": [
        "trainPredict_LSTM = modelLSTM.predict(trainX)\n",
        "testPredict_LSTM = modelLSTM.predict(testX)"
      ],
      "execution_count": null,
      "outputs": []
    },
    {
      "cell_type": "code",
      "metadata": {
        "id": "Vdsi8cp3uGr4"
      },
      "source": [
        "trainScore = math.sqrt(mean_squared_error(trainY, trainPredict_LSTM))\n",
        "print('Train Score: %.2f RMSE' % (trainScore))\n",
        "testScore = math.sqrt(mean_squared_error(testY, testPredict_LSTM))\n",
        "print('Test Score: %.2f RMSE' % (testScore))"
      ],
      "execution_count": null,
      "outputs": []
    },
    {
      "cell_type": "code",
      "metadata": {
        "id": "beqZwyZWuGr4"
      },
      "source": [
        "# PLOTS\n",
        "f = plt.figure()\n",
        "f.set_figwidth(70)\n",
        "f.set_figheight(20)\n",
        "plt.plot(v[Tp+1:,0],color=\"red\", linewidth=5,label=\"Original\")\n",
        "plt.plot(testPredict_LSTM[:,0],color=\"black\", linewidth=5,label=\"Predicted\")\n",
        "plt.xlabel('time',fontsize=60)\n",
        "plt.ylabel('X',fontsize=60)\n",
        "plt.legend(loc='best',fontsize=60)\n",
        "plt.show()\n",
        "\n",
        "f = plt.figure()\n",
        "f.set_figwidth(70)\n",
        "f.set_figheight(20)\n",
        "plt.plot(v[Tp+1:,1],color=\"red\", linewidth=5,label=\"Original\")\n",
        "plt.plot(testPredict_LSTM[:,1],color=\"black\", linewidth=5,label=\"Predicted\")\n",
        "plt.xlabel('time',fontsize=60)\n",
        "plt.ylabel('Y',fontsize=60)\n",
        "plt.legend(loc='best',fontsize=60)\n",
        "plt.show()\n",
        "\n",
        "f = plt.figure()\n",
        "f.set_figwidth(70)\n",
        "f.set_figheight(20)\n",
        "plt.plot(v[Tp+1:,2],color=\"red\", linewidth=5,label=\"Original\")\n",
        "plt.plot(testPredict_LSTM[:,2],color=\"black\", linewidth=5,label=\"Predicted\")\n",
        "plt.xlabel('time',fontsize=60)\n",
        "plt.ylabel('Z',fontsize=60)\n",
        "plt.legend(loc='best',fontsize=60)\n",
        "plt.show()"
      ],
      "execution_count": null,
      "outputs": []
    },
    {
      "cell_type": "markdown",
      "metadata": {
        "id": "gkK5HjnZuGr4"
      },
      "source": [
        "## 2. RNN"
      ]
    },
    {
      "cell_type": "code",
      "metadata": {
        "id": "mIJqBBzxuGr5"
      },
      "source": [
        "RNNmodel = Sequential()\n",
        "RNNmodel.add(SimpleRNN( 50 , input_shape=( None , 3 )))\n",
        "RNNmodel.add(Dense( 3 ))\n",
        "RNNmodel.compile(loss= 'mse' , optimizer= 'adam' )\n",
        "RNNmodel.fit(trainX,trainY,verbose= 2 ,epochs= 200, batch_size=32)\n",
        "RNNmodel.summary()"
      ],
      "execution_count": null,
      "outputs": []
    },
    {
      "cell_type": "code",
      "metadata": {
        "id": "fsW1aDmDuGr5"
      },
      "source": [
        "trainPredict_RNN = RNNmodel.predict(trainX)\n",
        "testPredict_RNN = RNNmodel.predict(testX)"
      ],
      "execution_count": null,
      "outputs": []
    },
    {
      "cell_type": "code",
      "metadata": {
        "id": "hyM8XiQDuGr5"
      },
      "source": [
        "trainScore = math.sqrt(mean_squared_error(trainY, trainPredict_RNN))\n",
        "print('Train Score: %.2f RMSE' % (trainScore))\n",
        "testScore = math.sqrt(mean_squared_error(testY, testPredict_RNN))\n",
        "print('Test Score: %.2f RMSE' % (testScore))"
      ],
      "execution_count": null,
      "outputs": []
    },
    {
      "cell_type": "code",
      "metadata": {
        "id": "Ls4lsKzGuGr5"
      },
      "source": [
        "# PLOTS\n",
        "f = plt.figure()\n",
        "f.set_figwidth(70)\n",
        "f.set_figheight(20)\n",
        "plt.plot(v[Tp+1:,0],color=\"red\", linewidth=5,label=\"Original\")\n",
        "plt.plot(testPredict_RNN[:,0],color=\"black\", linewidth=5,label=\"Predicted\")\n",
        "plt.xlabel('time',fontsize=60)\n",
        "plt.ylabel('x',fontsize=60)\n",
        "plt.legend(loc='best',fontsize=60)\n",
        "plt.show()\n",
        "\n",
        "f = plt.figure()\n",
        "f.set_figwidth(70)\n",
        "f.set_figheight(20)\n",
        "plt.plot(v[Tp+1:,1],color=\"red\", linewidth=5,label=\"Original\")\n",
        "plt.plot(testPredict_RNN[:,1],color=\"black\", linewidth=5,label=\"Predicted\")\n",
        "plt.xlabel('time',fontsize=60)\n",
        "plt.ylabel('y',fontsize=60)\n",
        "plt.legend(loc='best',fontsize=60)\n",
        "\n",
        "\n",
        "f = plt.figure()\n",
        "f.set_figwidth(70)\n",
        "f.set_figheight(20)\n",
        "plt.plot(v[Tp+1:,2],color=\"red\", linewidth=5,label=\"Original\")\n",
        "plt.plot(testPredict_RNN[:,2],color=\"black\", linewidth=5,label=\"Predicted\")\n",
        "plt.xlabel('time',fontsize=60)\n",
        "plt.ylabel('Z',fontsize=60)\n",
        "plt.legend(loc='best',fontsize=60)\n",
        "plt.show()"
      ],
      "execution_count": null,
      "outputs": []
    },
    {
      "cell_type": "markdown",
      "metadata": {
        "id": "MOxOUi-duGr6"
      },
      "source": [
        "## 3. GRU"
      ]
    },
    {
      "cell_type": "code",
      "metadata": {
        "id": "YuYAz4uvuGr6"
      },
      "source": [
        "modelGRU = Sequential()\n",
        "modelGRU.add(GRU( 50 , input_shape=( None , 3 )))\n",
        "modelGRU.add(Dense( 3 ))\n",
        "modelGRU.compile(loss= 'mean_squared_error' , optimizer= 'adam' )\n",
        "modelGRU.summary()"
      ],
      "execution_count": null,
      "outputs": []
    },
    {
      "cell_type": "code",
      "metadata": {
        "id": "YienTbPkuGr6"
      },
      "source": [
        "modelGRU.fit(trainX,trainY,verbose= 2 ,epochs= 150, batch_size=32)"
      ],
      "execution_count": null,
      "outputs": []
    },
    {
      "cell_type": "code",
      "metadata": {
        "id": "3Dsuih7uuGr6"
      },
      "source": [
        "trainPredict_GRU = modelGRU.predict(trainX)\n",
        "testPredict_GRU = modelGRU.predict(testX)\n",
        "trainScore = math.sqrt(mean_squared_error(trainY, trainPredict_GRU))\n",
        "print('Train Score: %.2f RMSE' % (trainScore))\n",
        "testScore = math.sqrt(mean_squared_error(testY, testPredict_GRU))\n",
        "print('Test Score: %.2f RMSE' % (testScore))"
      ],
      "execution_count": null,
      "outputs": []
    },
    {
      "cell_type": "code",
      "metadata": {
        "id": "lk1p_ww8uGr7"
      },
      "source": [
        "# PLOT\n",
        "f = plt.figure()\n",
        "f.set_figwidth(70)\n",
        "f.set_figheight(20)\n",
        "plt.plot(v[Tp+1:,0],color=\"red\", linewidth=5,label=\"Original\")\n",
        "plt.plot(testPredict_GRU[:,0],color=\"black\", linewidth=5,label=\"Predicted\")\n",
        "plt.xlabel('time',fontsize=60)\n",
        "plt.ylabel('x',fontsize=60)\n",
        "plt.legend(loc='best',fontsize=60)\n",
        "plt.show()\n",
        "\n",
        "f = plt.figure()\n",
        "f.set_figwidth(70)\n",
        "f.set_figheight(20)\n",
        "plt.plot(v[Tp+1:,1],color=\"red\", linewidth=5,label=\"Original\")\n",
        "plt.plot(testPredict_GRU[:,1],color=\"black\", linewidth=5,label=\"Predicted\")\n",
        "plt.xlabel('time',fontsize=60)\n",
        "plt.ylabel('y',fontsize=60)\n",
        "plt.legend(loc='best',fontsize=60)\n",
        "plt.show()\n",
        "\n",
        "f = plt.figure()\n",
        "f.set_figwidth(70)\n",
        "f.set_figheight(20)\n",
        "plt.plot(v[Tp+1:,2],color=\"red\", linewidth=5,label=\"Original\")\n",
        "plt.plot(testPredict_GRU[:,2],color=\"black\", linewidth=5,label=\"Predicted\")\n",
        "plt.xlabel('time',fontsize=60)\n",
        "plt.ylabel('z',fontsize=60)\n",
        "plt.legend(loc='best',fontsize=60)\n",
        "plt.show()"
      ],
      "execution_count": null,
      "outputs": []
    },
    {
      "cell_type": "markdown",
      "metadata": {
        "id": "irfi0ZvkuGr7"
      },
      "source": [
        "# 2ND APPROACH(  MULTI TS APPROACH)(SEQUENCE TO SEQUENCE)"
      ]
    },
    {
      "cell_type": "code",
      "metadata": {
        "id": "qWVQWN_2uGr7"
      },
      "source": [
        "# n_past = This number refers to the timesteps in the input\n",
        "# n_features = This number refers to the number of features\n",
        "# n_future = This number refers to the timesteps in the output\n",
        "n_past= 10\n",
        "n_features = 3\n",
        "n_future = 15"
      ],
      "execution_count": null,
      "outputs": []
    },
    {
      "cell_type": "code",
      "metadata": {
        "id": "zW4sBkTYuGr8"
      },
      "source": [
        "def split_series(series, n_past, n_future):\n",
        "    \n",
        "  X, y = list(), list()\n",
        "  for window_start in range(len(series)):\n",
        "    past_end = window_start + n_past\n",
        "    future_end = past_end + n_future\n",
        "    if future_end > len(series):\n",
        "      break\n",
        "    past, future = series[window_start:past_end, :], series[past_end:future_end, :]\n",
        "    X.append(past)\n",
        "    y.append(future)\n",
        "  return np.array(X), np.array(y)"
      ],
      "execution_count": null,
      "outputs": []
    },
    {
      "cell_type": "code",
      "metadata": {
        "id": "-Qebt6iquGr8"
      },
      "source": [
        "# Initial condition\n",
        "# DATA GENERATION\n",
        "v0 = np.array([0.7,0.1,0.2])\n",
        "t = np.linspace(0,2000,num=2000)\n",
        "v = odeint(model,v0,t)"
      ],
      "execution_count": null,
      "outputs": []
    },
    {
      "cell_type": "code",
      "metadata": {
        "id": "PlapejynuGr8"
      },
      "source": [
        "X_train, y_train = split_series(train,n_past, n_future)\n",
        "X_train = X_train.reshape((X_train.shape[0], X_train.shape[1],n_features))\n",
        "y_train = y_train.reshape((y_train.shape[0], y_train.shape[1], n_features))\n",
        "X_test, y_test = split_series(test,n_past, n_future)\n",
        "X_test = X_test.reshape((X_test.shape[0], X_test.shape[1],n_features))\n",
        "y_test = y_test.reshape((y_test.shape[0], y_test.shape[1], n_features))"
      ],
      "execution_count": null,
      "outputs": []
    },
    {
      "cell_type": "code",
      "metadata": {
        "id": "6vvM3ekJuGr8"
      },
      "source": [
        "encoder_inputs = tf.keras.layers.Input(shape=(n_past, n_features))\n",
        "encoder_l1 = tf.keras.layers.LSTM(100, return_state=True)\n",
        "encoder_outputs1 = encoder_l1(encoder_inputs)\n",
        "encoder_states1 = encoder_outputs1[1:]\n",
        "#\n",
        "decoder_inputs = tf.keras.layers.RepeatVector(n_future)(encoder_outputs1[0])\n",
        "decoder_l1 = tf.keras.layers.LSTM(100, return_sequences=True)(decoder_inputs,initial_state = encoder_states1)\n",
        "decoder_outputs1 = tf.keras.layers.TimeDistributed(tf.keras.layers.Dense(n_features))(decoder_l1)\n",
        "#\n",
        "model_e1d1 = tf.keras.models.Model(encoder_inputs,decoder_outputs1)\n",
        "model_e1d1.summary()"
      ],
      "execution_count": null,
      "outputs": []
    },
    {
      "cell_type": "code",
      "metadata": {
        "id": "-vFTsSIyuGr9"
      },
      "source": [
        "model_e1d1.compile(loss= 'mean_squared_error' , optimizer= 'adam' )\n",
        "model_e1d1.fit(X_train,y_train,verbose= 2 ,epochs= 100 )\n",
        "testPredict_whole = model_e1d1.predict(X_test)\n",
        "trainPredict_whole = model_e1d1.predict(X_train)"
      ],
      "execution_count": null,
      "outputs": []
    },
    {
      "cell_type": "code",
      "metadata": {
        "id": "RXmh56LguGr9"
      },
      "source": [
        "trainScore = math.sqrt(mean_squared_error(y_train[:,0,:], trainPredict_whole[:,0,:]))\n",
        "print('Train Score: %.2f RMSE' % (trainScore))\n",
        "testScore = math.sqrt(mean_squared_error(y_test[:,0,:], testPredict_whole[:,0,:]))\n",
        "print('Test Score: %.2f RMSE' % (testScore))"
      ],
      "execution_count": null,
      "outputs": []
    },
    {
      "cell_type": "code",
      "metadata": {
        "id": "aSVmdy1-uGr-"
      },
      "source": [
        "# PLOTS\n",
        "f = plt.figure()\n",
        "f.set_figwidth(70)\n",
        "f.set_figheight(20)\n",
        "plt.plot(y_test[:,1,0],color=\"red\", linewidth=5,label=\"Original\")\n",
        "plt.plot(testPredict_whole[:,1,0],color=\"black\", linewidth=5,label=\"Predicted\")\n",
        "plt.xlabel('time',fontsize=60)\n",
        "plt.ylabel('x',fontsize=60)\n",
        "#plt.legend(loc='upper right', prop={'size': 60})\n",
        "plt.legend(loc='upper right',fontsize=60)\n",
        "plt.show()\n",
        "\n",
        "f = plt.figure()\n",
        "f.set_figwidth(70)\n",
        "f.set_figheight(20)\n",
        "plt.plot(y_test[:,1,1],color=\"red\", linewidth=5,label=\"Original\")\n",
        "plt.plot(testPredict_whole[:,1,1],color=\"black\", linewidth=5,label=\"Predicted\")\n",
        "plt.xlabel('time')\n",
        "plt.ylabel('y')\n",
        "plt.legend(loc='best')\n",
        "plt.show()\n",
        "\n",
        "f = plt.figure()\n",
        "f.set_figwidth(70)\n",
        "f.set_figheight(20)\n",
        "plt.plot(y_test[:,1,2],color=\"red\", linewidth=5,label=\"Original\")\n",
        "plt.plot(testPredict_whole[:,1,2],color=\"black\", linewidth=5,label=\"Predicted\")\n",
        "plt.xlabel('time')\n",
        "plt.ylabel('z')\n",
        "plt.legend(loc='best')\n",
        "plt.show()"
      ],
      "execution_count": null,
      "outputs": []
    },
    {
      "cell_type": "code",
      "metadata": {
        "id": "qvAQTFUruGr-"
      },
      "source": [
        ""
      ],
      "execution_count": null,
      "outputs": []
    },
    {
      "cell_type": "markdown",
      "metadata": {
        "id": "hBjb_ojkuGr-"
      },
      "source": [
        "# 3RD APPROACH(GENERATIVE MODE APPROACH) (LSTM)"
      ]
    },
    {
      "cell_type": "code",
      "metadata": {
        "id": "u-oGRMSsuGr-"
      },
      "source": [
        "# CHANGE Tp FOR TRAIN RATIO\n",
        "N = 20000\n",
        "Tp = int(0.9*N)"
      ],
      "execution_count": null,
      "outputs": []
    },
    {
      "cell_type": "code",
      "metadata": {
        "id": "mJr4w6IduGr_"
      },
      "source": [
        "# Initial condition\n",
        "# DATA GENERATION\n",
        "v0 = np.array([0.7,0.1,0.2])\n",
        "t = np.linspace(0,1000,num=N)\n",
        "v = odeint(model,v0,t)"
      ],
      "execution_count": null,
      "outputs": []
    },
    {
      "cell_type": "code",
      "metadata": {
        "id": "JIh5GouJuGr_"
      },
      "source": [
        "from mpl_toolkits import mplot3d\n",
        "%matplotlib inline\n",
        "import numpy as np\n",
        "import matplotlib.pyplot as plt\n",
        "f = plt.figure()\n",
        "f.set_figwidth(100)\n",
        "f.set_figheight(50)\n",
        "ax = plt.axes(projection='3d')\n",
        "ax.plot3D(v[:,0], v[:,1], v[:,2], 'red')"
      ],
      "execution_count": null,
      "outputs": []
    },
    {
      "cell_type": "code",
      "metadata": {
        "id": "YTfsskULuGr_"
      },
      "source": [
        "a = v[:,0]\n",
        "b = v[:,1]\n",
        "c = v[:,2]\n",
        "a = a.reshape(len(a), 1)\n",
        "b = b.reshape(len(b), 1)\n",
        "c = c.reshape(len(c), 1)"
      ],
      "execution_count": null,
      "outputs": []
    },
    {
      "cell_type": "code",
      "metadata": {
        "id": "BATULhiPuGr_"
      },
      "source": [
        "train,test = v[0:Tp,:], v[Tp:N,:]\n",
        "trainX,trainY =convertToMatrix(train,step)\n",
        "testX,testY =convertToMatrix(test,step)\n",
        "trainX = trainX.reshape(trainX.shape[0], step, trainX.shape[2])\n",
        "testX = testX.reshape(testX.shape[0], step, testX.shape[2])"
      ],
      "execution_count": null,
      "outputs": []
    },
    {
      "cell_type": "code",
      "metadata": {
        "id": "kAWoY2CNuGr_"
      },
      "source": [
        "modelLSTM = Sequential()\n",
        "modelLSTM.add(LSTM(50, input_shape=( None , 3 )))\n",
        "modelLSTM.add(Dense( 3 ))\n",
        "modelLSTM.compile(loss= 'mean_squared_error' , optimizer= 'adam',metrics=['accuracy'] )\n",
        "modelLSTM.summary()"
      ],
      "execution_count": null,
      "outputs": []
    },
    {
      "cell_type": "code",
      "metadata": {
        "id": "SqLDb23wuGsA"
      },
      "source": [
        "modelLSTM.fit(trainX,trainY,verbose= 2 ,epochs= 50,batch_size=20 )"
      ],
      "execution_count": null,
      "outputs": []
    },
    {
      "cell_type": "code",
      "metadata": {
        "id": "9mfUk0XFuGsA"
      },
      "source": [
        "a=testX[0,:,:]\n",
        "predictions = list()\n",
        "for i in range(N-Tp):\n",
        "    # make one-step forecast\n",
        "    a = a.reshape(1, 1, 3)\n",
        "    trainPredict = modelLSTM.predict(a)\n",
        "    predictions.append(trainPredict)\n",
        "    a =  trainPredict"
      ],
      "execution_count": null,
      "outputs": []
    },
    {
      "cell_type": "code",
      "metadata": {
        "id": "j7586um1uGsA"
      },
      "source": [
        "finalArray = np.asarray(predictions, dtype = np.float32)"
      ],
      "execution_count": null,
      "outputs": []
    },
    {
      "cell_type": "code",
      "metadata": {
        "id": "nGjNwpLBuGsA"
      },
      "source": [
        "# change ts based on how many timesteps the prediction is wanted\n",
        "ts=200\n",
        "# Plot results\n",
        "f = plt.figure()\n",
        "plt.plot(v[Tp:(Tp+ts),0],color=\"red\", linewidth=2,label=\"Original\")\n",
        "plt.plot(finalArray[0:ts,0,0],color=\"black\", linewidth=2,label=\"Predicted\")\n",
        "plt.xlabel('time')\n",
        "plt.ylabel('x')\n",
        "plt.legend(loc='best')\n",
        "plt.show()\n",
        "\n",
        "f = plt.figure()\n",
        "plt.plot(v[Tp:(Tp+ts),1],color=\"red\", linewidth=2,label=\"Original\")\n",
        "plt.plot(finalArray[0:ts,0,1],color=\"black\", linewidth=2,label=\"Predicted\")\n",
        "plt.xlabel('time')\n",
        "plt.ylabel('y')\n",
        "plt.legend(loc='best')\n",
        "plt.show()\n",
        "f = plt.figure()\n",
        "\n",
        "plt.plot(v[Tp:(Tp+ts),2],color=\"red\", linewidth=2,label=\"Original\")\n",
        "plt.plot(finalArray[0:ts,0,2],color=\"black\", linewidth=2,label=\"Predicted\")\n",
        "plt.xlabel('time')\n",
        "plt.ylabel('z')\n",
        "plt.legend(loc='best')\n",
        "plt.show()\n",
        "f = plt.figure()\n",
        "f.set_figwidth(100)\n",
        "f.set_figheight(10)"
      ],
      "execution_count": null,
      "outputs": []
    },
    {
      "cell_type": "code",
      "metadata": {
        "id": "Mn-1Y5wxuGsA"
      },
      "source": [
        "# SCROLL PLOT\n",
        "ts=N-Tp\n",
        "from mpl_toolkits import mplot3d\n",
        "%matplotlib inline\n",
        "import numpy as np\n",
        "import matplotlib.pyplot as plt\n",
        "f = plt.figure()\n",
        "f.set_figwidth(80)\n",
        "f.set_figheight(50)\n",
        "ax = plt.axes(projection='3d')\n",
        "ax.plot3D(v[Tp:(Tp+ts),0], v[Tp:(Tp+ts),1], v[Tp:(Tp+ts),2], 'red',linewidth=5)\n",
        "plt.legend(loc='best')"
      ],
      "execution_count": null,
      "outputs": []
    },
    {
      "cell_type": "code",
      "metadata": {
        "id": "Y0YqrMgIuGsB"
      },
      "source": [
        "from mpl_toolkits import mplot3d\n",
        "%matplotlib inline\n",
        "import numpy as np\n",
        "import matplotlib.pyplot as plt\n",
        "f = plt.figure()\n",
        "f.set_figwidth(80)\n",
        "f.set_figheight(50)\n",
        "ax = plt.axes(projection='3d')\n",
        "ax.plot3D(finalArray[:ts,0,0], finalArray[:ts,0,1], finalArray[:ts,0,2], 'black',linewidth=5)\n",
        "plt.legend(loc='best')"
      ],
      "execution_count": null,
      "outputs": []
    }
  ]
}